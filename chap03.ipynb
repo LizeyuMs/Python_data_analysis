{
 "cells": [
  {
   "cell_type": "code",
   "execution_count": 1,
   "metadata": {
    "collapsed": true
   },
   "outputs": [],
   "source": [
    "import pandas as pd\n",
    "import matplotlib.pyplot as plt"
   ]
  },
  {
   "cell_type": "markdown",
   "metadata": {},
   "source": [
    "# 種子の概要\n",
    "- y : 種子数\n",
    "- x : 体サイズ\n",
    "- f : 施肥処理の有無　C：処理なし　T：処理あり"
   ]
  },
  {
   "cell_type": "code",
   "execution_count": 2,
   "metadata": {
    "collapsed": false
   },
   "outputs": [
    {
     "name": "stdout",
     "output_type": "stream",
     "text": [
      "    y      x  f\n",
      "0   6   8.31  C\n",
      "1   6   9.44  C\n",
      "2   6   9.50  C\n",
      "3  12   9.07  C\n",
      "4  10  10.16  C\n",
      ".......\n",
      "    y      x  f\n",
      "98  7  10.86  T\n",
      "99  9   9.97  T\n"
     ]
    }
   ],
   "source": [
    "sed = pd.read_csv(\"data/data3a.csv\")\n",
    "print(sed.head())\n",
    "print(\".......\")\n",
    "print(sed.tail(2))"
   ]
  },
  {
   "cell_type": "code",
   "execution_count": 3,
   "metadata": {
    "collapsed": false
   },
   "outputs": [
    {
     "name": "stdout",
     "output_type": "stream",
     "text": [
      "                y           x\n",
      "count  100.000000  100.000000\n",
      "mean     7.830000   10.089100\n",
      "std      2.624881    1.008049\n",
      "min      2.000000    7.190000\n",
      "25%      6.000000    9.427500\n",
      "50%      8.000000   10.155000\n",
      "75%     10.000000   10.685000\n",
      "max     15.000000   12.400000\n"
     ]
    }
   ],
   "source": [
    "print(sed.describe())"
   ]
  },
  {
   "cell_type": "code",
   "execution_count": 4,
   "metadata": {
    "collapsed": false
   },
   "outputs": [
    {
     "data": {
      "image/png": "[encoded data removed]",
      "text/plain": [
       "<matplotlib.figure.Figure at 0x111ce2978>"
      ]
     },
     "metadata": {},
     "output_type": "display_data"
    }
   ],
   "source": [
    "plt.scatter(sed.x[sed.f=='T'], sed.y[sed.f=='T'], label='T', marker='*', s=50)\n",
    "plt.scatter(sed.x[sed.f=='C'], sed.y[sed.f=='C'], label='C')\n",
    "plt.legend(loc='upper left')\n",
    "plt.show()"
   ]
  },
  {
   "cell_type": "code",
   "execution_count": 5,
   "metadata": {
    "collapsed": false
   },
   "outputs": [
    {
     "data": {
      "image/png": "[encoded data removed]",
      "text/plain": [
       "<matplotlib.figure.Figure at 0x11a2015f8>"
      ]
     },
     "metadata": {},
     "output_type": "display_data"
    }
   ],
   "source": [
    "plt.boxplot([sed.x[sed.f=='T'], sed.x[sed.f=='C']], labels=['T', 'C'])\n",
    "plt.show()"
   ]
  },
  {
   "cell_type": "markdown",
   "metadata": {},
   "source": [
    "## ポアソン回帰の統計モデル\n",
    "$$ \\lambda_i = exp(\\beta_1 + \\beta_2x_i) $$\n",
    "\n",
    "$$ \\log \\lambda_i = \\beta_1 + \\beta_2 x_i $$\n",
    "\n",
    "$$ \\log L(\\beta_1 , \\beta_2) = \\sum_i\\log \\frac{\\lambda_i^{y_i} exp(-\\lambda_i)}{y_i!} $$"
   ]
  },
  {
   "cell_type": "code",
   "execution_count": 6,
   "metadata": {
    "collapsed": false
   },
   "outputs": [
    {
     "data": {
      "image/png": "[encoded data removed]",
      "text/plain": [
       "<matplotlib.figure.Figure at 0x11a2c70f0>"
      ]
     },
     "metadata": {},
     "output_type": "display_data"
    }
   ],
   "source": [
    "import numpy as np\n",
    "x_img = np.arange(-4, 5.5, 0.2)\n",
    "lambda_img1 = np.exp(-2+(-0.8)*x_img)\n",
    "lambda_img2 = np.exp(-1+(0.4)*x_img)\n",
    "plt.plot(x_img, lambda_img1, '--', label='∂: -2, ß: -0.8')\n",
    "plt.plot(x_img, lambda_img2, label='∂: -1,ß: 0.4')\n",
    "plt.axvline(x=0, linestyle='dashdot', color='r')\n",
    "plt.ylim(-0.01, 2.8)\n",
    "plt.legend()\n",
    "plt.show()"
   ]
  },
  {
   "cell_type": "code",
   "execution_count": 7,
   "metadata": {
    "collapsed": false
   },
   "outputs": [],
   "source": [
    "import statsmodels.api as sm\n",
    "import statsmodels.formula.api as smf"
   ]
  },
  {
   "cell_type": "code",
   "execution_count": 8,
   "metadata": {
    "collapsed": false
   },
   "outputs": [
    {
     "name": "stdout",
     "output_type": "stream",
     "text": [
      "                 Generalized Linear Model Regression Results                  \n",
      "==============================================================================\n",
      "Dep. Variable:                      y   No. Observations:                  100\n",
      "Model:                            GLM   Df Residuals:                       98\n",
      "Model Family:                 Poisson   Df Model:                            1\n",
      "Link Function:                    log   Scale:                          1.0000\n",
      "Method:                          IRLS   Log-Likelihood:                -235.39\n",
      "Date:                Mon, 21 May 2018   Deviance:                       84.993\n",
      "Time:                        21:39:50   Pearson chi2:                     83.8\n",
      "No. Iterations:                     4   Covariance Type:             nonrobust\n",
      "==============================================================================\n",
      "                 coef    std err          z      P>|z|      [0.025      0.975]\n",
      "------------------------------------------------------------------------------\n",
      "Intercept      1.2917      0.364      3.552      0.000       0.579       2.005\n",
      "x              0.0757      0.036      2.125      0.034       0.006       0.145\n",
      "==============================================================================\n",
      "Intercept    1.291721\n",
      "x            0.075662\n",
      "dtype: float64\n"
     ]
    }
   ],
   "source": [
    "fit = smf.glm(formula=\"y ~ x\", data=sed, family=sm.families.Poisson(link=sm.families.links.log)).fit()\n",
    "print(fit.summary())\n",
    "print(fit.params)"
   ]
  },
  {
   "cell_type": "markdown",
   "metadata": {},
   "source": [
    "### 最大対数尤度"
   ]
  },
  {
   "cell_type": "code",
   "execution_count": 9,
   "metadata": {
    "collapsed": false
   },
   "outputs": [
    {
     "data": {
      "text/plain": [
       "count    100.000000\n",
       "mean       7.830000\n",
       "std        0.598487\n",
       "min        6.269709\n",
       "25%        7.426269\n",
       "50%        7.846501\n",
       "75%        8.167561\n",
       "max        9.299202\n",
       "Name: x, dtype: float64"
      ]
     },
     "execution_count": 9,
     "metadata": {},
     "output_type": "execute_result"
    }
   ],
   "source": [
    "alpha, beta = fit.params\n",
    "lambda1 = np.exp(alpha + beta*sed.x) # fit.predict(sed.x)\n",
    "lambda1.describe()"
   ]
  },
  {
   "cell_type": "code",
   "execution_count": 10,
   "metadata": {
    "collapsed": false
   },
   "outputs": [
    {
     "data": {
      "text/plain": [
       "-235.38625076986079"
      ]
     },
     "execution_count": 10,
     "metadata": {},
     "output_type": "execute_result"
    }
   ],
   "source": [
    "from scipy import stats\n",
    "prof = stats.poisson.logpmf(sed.y, lambda1)\n",
    "logLik_x = np.sum(prof)\n",
    "logLik_x"
   ]
  },
  {
   "cell_type": "markdown",
   "metadata": {},
   "source": [
    "### ポアソン回帰モデルによる予測"
   ]
  },
  {
   "cell_type": "code",
   "execution_count": 11,
   "metadata": {
    "collapsed": false
   },
   "outputs": [
    {
     "data": {
      "image/png": "[encoded data removed]",
      "text/plain": [
       "<matplotlib.figure.Figure at 0x1c1db0a0b8>"
      ]
     },
     "metadata": {},
     "output_type": "display_data"
    }
   ],
   "source": [
    "fig, (axL, axR) = plt.subplots(ncols=2, figsize=(10,4))\n",
    "\n",
    "# 左の図\n",
    "axL.scatter(sed.x[sed.f=='T'], sed.y[sed.f=='T'], label='T', marker='*', s=50)\n",
    "axL.scatter(sed.x[sed.f=='C'], sed.y[sed.f=='C'], label='C')\n",
    "x_img2 = np.arange(7.2, 12.5, 0.1)\n",
    "axL.plot(x_img2, np.exp(alpha + beta*x_img2), color='r')\n",
    "axL.legend(loc='upper left')\n",
    "axL.set_xlabel('size')\n",
    "axL.set_ylabel('seed number')\n",
    "\n",
    "# 右の図\n",
    "axR.scatter(sed.x[sed.f=='T'], sed.y[sed.f=='T'], label='T', marker='*', s=50)\n",
    "axR.scatter(sed.x[sed.f=='C'], sed.y[sed.f=='C'], label='C')\n",
    "# x_img2 = np.arange(7.2, 12.5, 0.1)\n",
    "axR.plot(x_img2, np.exp(alpha + beta*x_img2), color='r')\n",
    "axR.legend(loc='upper left')\n",
    "axR.set_ylim(6, 10)\n",
    "axR.set_xlabel('size')\n",
    "axL.set_ylabel('seed number')\n",
    "\n",
    "\n",
    "# fig.show()\n",
    "plt.show()"
   ]
  },
  {
   "cell_type": "markdown",
   "metadata": {},
   "source": [
    "## 説明変数が因子型の統計モデル"
   ]
  },
  {
   "cell_type": "code",
   "execution_count": 12,
   "metadata": {
    "collapsed": false
   },
   "outputs": [
    {
     "name": "stdout",
     "output_type": "stream",
     "text": [
      "                 Generalized Linear Model Regression Results                  \n",
      "==============================================================================\n",
      "Dep. Variable:                      y   No. Observations:                  100\n",
      "Model:                            GLM   Df Residuals:                       98\n",
      "Model Family:                 Poisson   Df Model:                            1\n",
      "Link Function:                    log   Scale:                          1.0000\n",
      "Method:                          IRLS   Log-Likelihood:                -237.63\n",
      "Date:                Mon, 21 May 2018   Deviance:                       89.475\n",
      "Time:                        21:39:51   Pearson chi2:                     87.1\n",
      "No. Iterations:                     4   Covariance Type:             nonrobust\n",
      "==============================================================================\n",
      "                 coef    std err          z      P>|z|      [0.025      0.975]\n",
      "------------------------------------------------------------------------------\n",
      "Intercept      2.0516      0.051     40.463      0.000       1.952       2.151\n",
      "f[T.T]         0.0128      0.071      0.179      0.858      -0.127       0.153\n",
      "==============================================================================\n"
     ]
    }
   ],
   "source": [
    "fit_fix = smf.glm(formula=\"y~f\", data= sed, family = sm.families.Poisson()).fit()\n",
    "print(fit_fix.summary())"
   ]
  },
  {
   "cell_type": "code",
   "execution_count": 13,
   "metadata": {
    "collapsed": false
   },
   "outputs": [
    {
     "data": {
      "text/plain": [
       "-237.62725696068682"
      ]
     },
     "execution_count": 13,
     "metadata": {},
     "output_type": "execute_result"
    }
   ],
   "source": [
    "prof_fix = stats.poisson.logpmf(sed.y, fit_fix.predict(sed.f))\n",
    "logLik_fix = np.sum(prof_fix)\n",
    "logLik_fix"
   ]
  },
  {
   "cell_type": "markdown",
   "metadata": {},
   "source": [
    "## 説明変数が数量型＋因子型の統計モデル"
   ]
  },
  {
   "cell_type": "code",
   "execution_count": 14,
   "metadata": {
    "collapsed": false
   },
   "outputs": [
    {
     "name": "stdout",
     "output_type": "stream",
     "text": [
      "                 Generalized Linear Model Regression Results                  \n",
      "==============================================================================\n",
      "Dep. Variable:                      y   No. Observations:                  100\n",
      "Model:                            GLM   Df Residuals:                       97\n",
      "Model Family:                 Poisson   Df Model:                            2\n",
      "Link Function:                    log   Scale:                          1.0000\n",
      "Method:                          IRLS   Log-Likelihood:                -235.29\n",
      "Date:                Mon, 21 May 2018   Deviance:                       84.808\n",
      "Time:                        21:39:51   Pearson chi2:                     83.8\n",
      "No. Iterations:                     4   Covariance Type:             nonrobust\n",
      "==============================================================================\n",
      "                 coef    std err          z      P>|z|      [0.025      0.975]\n",
      "------------------------------------------------------------------------------\n",
      "Intercept      1.2631      0.370      3.417      0.001       0.539       1.988\n",
      "f[T.T]        -0.0320      0.074     -0.430      0.667      -0.178       0.114\n",
      "x              0.0801      0.037      2.162      0.031       0.007       0.153\n",
      "==============================================================================\n"
     ]
    }
   ],
   "source": [
    "fit_all = smf.glm(formula='y~x+f', data = sed, family=sm.families.Poisson()).fit()\n",
    "print(fit_all.summary())"
   ]
  },
  {
   "cell_type": "code",
   "execution_count": 15,
   "metadata": {
    "collapsed": false
   },
   "outputs": [
    {
     "data": {
      "text/plain": [
       "-235.29371924249367"
      ]
     },
     "execution_count": 15,
     "metadata": {},
     "output_type": "execute_result"
    }
   ],
   "source": [
    "prof_all = stats.poisson.logpmf(sed.y, fit_all.predict(sed.loc[:,['x', 'f']]))\n",
    "logLik_all = np.sum(prof_all)\n",
    "logLik_all"
   ]
  },
  {
   "cell_type": "code",
   "execution_count": 16,
   "metadata": {
    "collapsed": false
   },
   "outputs": [
    {
     "name": "stdout",
     "output_type": "stream",
     "text": [
      "logLik_f : -237.627256961\n",
      "logLik_x : -235.38625077\n",
      "logLik_all : -235.293719242\n"
     ]
    }
   ],
   "source": [
    "print(\"logLik_f : \" + str(logLik_fix))\n",
    "print(\"logLik_x : \" + str(logLik_x))\n",
    "print(\"logLik_all : \" + str(logLik_all))"
   ]
  },
  {
   "cell_type": "code",
   "execution_count": 17,
   "metadata": {
    "collapsed": false
   },
   "outputs": [
    {
     "data": {
      "image/png": "[encoded data removed]",
      "text/plain": [
       "<matplotlib.figure.Figure at 0x1c1dc09160>"
      ]
     },
     "metadata": {},
     "output_type": "display_data"
    }
   ],
   "source": [
    "plt.scatter(sed.x[sed.f=='T'], sed.y[sed.f=='T'], label='T', marker='*', s=50)\n",
    "plt.scatter(sed.x[sed.f=='C'], sed.y[sed.f=='C'], label='C')\n",
    "alpha, beta2, beta1 = fit_all.params\n",
    "x_img3 = np.arange(5, 20, 0.1)\n",
    "y_nf = np.exp(alpha + beta1*x_img3)\n",
    "y_f = np.exp(alpha + beta1*x_img3 + beta2)\n",
    "plt.plot(x_img3, y_nf, color='r', label='not manure')\n",
    "plt.plot(x_img3, y_f, label='manured', linestyle='dashdot')\n",
    "plt.legend(loc='upper left')\n",
    "# plt.ylim(4, 16)\n",
    "plt.show()"
   ]
  }
 ],
 "metadata": {
  "anaconda-cloud": {},
  "kernelspec": {
   "display_name": "Python [default]",
   "language": "python",
   "name": "python3"
  },
  "language_info": {
   "codemirror_mode": {
    "name": "ipython",
    "version": 3
   },
   "file_extension": ".py",
   "mimetype": "text/x-python",
   "name": "python",
   "nbconvert_exporter": "python",
   "pygments_lexer": "ipython3",
   "version": "3.5.2"
  }
 },
 "nbformat": 4,
 "nbformat_minor": 1
}
