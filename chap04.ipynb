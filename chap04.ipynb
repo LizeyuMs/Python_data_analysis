{
 "cells": [
  {
   "cell_type": "markdown",
   "metadata": {},
   "source": [
    "# GLMのモデル選択"
   ]
  },
  {
   "cell_type": "code",
   "execution_count": 1,
   "metadata": {
    "collapsed": true
   },
   "outputs": [],
   "source": [
    "import pandas as pd\n",
    "import numpy as np\n",
    "from scipy import stats\n",
    "import matplotlib.pyplot as plt\n",
    "import statsmodels.api as sm\n",
    "import statsmodels.formula.api as smf\n",
    "import matplotlib.pyplot as plt"
   ]
  },
  {
   "cell_type": "code",
   "execution_count": 2,
   "metadata": {
    "collapsed": true
   },
   "outputs": [],
   "source": [
    "sed = pd.read_csv(\"data/data3a.csv\")"
   ]
  },
  {
   "cell_type": "code",
   "execution_count": 3,
   "metadata": {
    "collapsed": false
   },
   "outputs": [],
   "source": [
    "fit_intercept = smf.glm(formula=\"y~1\", data=sed, family = sm.families.Poisson()).fit()\n",
    "fit_f = smf.glm(formula=\"y~f\", data=sed,  family = sm.families.Poisson()).fit()\n",
    "fit_x = smf.glm(formula=\"y~x\", data=sed,  family = sm.families.Poisson()).fit()\n",
    "fit_xf = smf.glm(formula=\"y~x+f\", data=sed,  family = sm.families.Poisson()).fit()\n",
    "fit_x6 = smf.glm(formula=\"y ~ x + I(x**2) + I(x**3) + I(x**4) + I(x**5) + I(x**6)\",\n",
    "                 data=sed, family = sm.families.Poisson()).fit()"
   ]
  },
  {
   "cell_type": "code",
   "execution_count": 4,
   "metadata": {
    "collapsed": false
   },
   "outputs": [
    {
     "data": {
      "image/png": "[encoded data removed]",
      "text/plain": [
       "<matplotlib.figure.Figure at 0x1c1d9851d0>"
      ]
     },
     "metadata": {},
     "output_type": "display_data"
    }
   ],
   "source": [
    "fig, (axL, axR) = plt.subplots(ncols=2, figsize=(10,4))\n",
    "x = np.arange(7.2, 13, 0.1)\n",
    "# パラメーター受け取る\n",
    "inter = fit_intercept.params\n",
    "alpha, beta1, beta2, beta3, beta4, beta5, beta6 = fit_x6.params\n",
    "\n",
    "# 非説明変数の生成\n",
    "y_intercept = float(np.exp(inter)) * np.ones(len(x))\n",
    "y_x6 = np.exp(alpha + beta1*x + beta2*(x**2) + beta3*(x**3)  + beta4*(x**4)  + beta5*(x**5)+ beta6*(x**6))\n",
    "\n",
    "\n",
    "# 左の図\n",
    "axL.scatter(sed.x[sed.f=='T'], sed.y[sed.f=='T'], label='T', marker='*', s=50)\n",
    "axL.scatter(sed.x[sed.f=='C'], sed.y[sed.f=='C'], label='C')\n",
    "axL.plot(x, y_intercept)\n",
    "axL.set_xlim(7, 13)\n",
    "axL.set_ylim(1.2, 16)\n",
    "axL.legend(loc='upper left')\n",
    "axL.set_xlabel('size')\n",
    "axL.set_ylabel('seed number')\n",
    "\n",
    "# 右の図\n",
    "axR.scatter(sed.x[sed.f=='T'], sed.y[sed.f=='T'], label='T', marker='*', s=50)\n",
    "axR.scatter(sed.x[sed.f=='C'], sed.y[sed.f=='C'], label='C')\n",
    "axR.plot(x, y_x6)\n",
    "axR.set_xlim(7, 13)\n",
    "axR.set_ylim(1.2, 16)\n",
    "axR.legend(loc='upper left')\n",
    "axR.set_xlabel('size')\n",
    "axR.set_ylabel('seed number')\n",
    "\n",
    "plt.show()"
   ]
  },
  {
   "cell_type": "markdown",
   "metadata": {},
   "source": [
    "## 統計モデルの当てはまりの悪さ：逸脱度"
   ]
  },
  {
   "cell_type": "markdown",
   "metadata": {},
   "source": [
    "### 様々な逸脱度($\\log L^*$ は最大対数尤度)\n",
    "\n",
    "| 名前 | 定義 | \n",
    "|:-----------|:------------|\n",
    "| 逸脱度(D)       |        -2$\\log L^*$ |\n",
    "| 最小逸脱度     |      フルモデルを当てはめた時のD |\n",
    "| 残差逸脱度       |        D-最小のD |\n",
    "| 最大逸脱度         |          Nullモデルを当てはめた時のD |\n",
    "|  Null逸脱度     |   最大のD-最小のD    |"
   ]
  },
  {
   "cell_type": "code",
   "execution_count": 5,
   "metadata": {
    "collapsed": false
   },
   "outputs": [
    {
     "name": "stdout",
     "output_type": "stream",
     "text": [
      "最小逸脱度 : 385.779505049\n"
     ]
    }
   ],
   "source": [
    "lambda_full = stats.poisson.logpmf(sed.y, sed.y)\n",
    "logLik_full = np.sum(lambda_full)\n",
    "min_dev = -2*logLik_full\n",
    "print(\"最小逸脱度 : \" + str(min_dev))"
   ]
  },
  {
   "cell_type": "code",
   "execution_count": 6,
   "metadata": {
    "collapsed": false
   },
   "outputs": [
    {
     "name": "stdout",
     "output_type": "stream",
     "text": [
      "最大逸脱度 : 475.286442619\n"
     ]
    }
   ],
   "source": [
    "lambda_null = float(np.exp(inter)) * np.ones(len(sed.x))\n",
    "logLik_null = np.sum(stats.poisson.logpmf(sed.y, lambda_null))\n",
    "max_dev = -2*logLik_null\n",
    "print(\"最大逸脱度 : \" + str(max_dev))"
   ]
  },
  {
   "cell_type": "markdown",
   "metadata": {},
   "source": [
    "#### モデル選択規準AIC\n",
    "AICは統計モデルの当てはまりの良さではなく、予測の良さを重視するモデルの選択規準です。<br>\n",
    "AICが小さいほど良いモデルとなる\n",
    "\n",
    "\n",
    "\\begin{align}\n",
    "AIC &= -2 {(最大対数尤度) - (最尤推定したパラメーター数)}\\\\\n",
    "&= -2 (\\log L^* - k)\\\\\n",
    "&= D + 2k\n",
    "\\end{align}"
   ]
  },
  {
   "cell_type": "code",
   "execution_count": 8,
   "metadata": {
    "collapsed": false
   },
   "outputs": [],
   "source": [
    "aic_null = fit_intercept.aic\n",
    "aic_f = fit_f.aic\n",
    "aic_x = fit_x.aic\n",
    "aic_xf = fit_xf.aic\n",
    "aic_full = -2*(min_dev - 100)"
   ]
  },
  {
   "cell_type": "code",
   "execution_count": 14,
   "metadata": {
    "collapsed": false
   },
   "outputs": [],
   "source": [
    "logLik_x = np.sum(stats.poisson.logpmf(sed.y, fit_x.predict(sed.x)))\n",
    "logLik_f = np.sum(stats.poisson.logpmf(sed.y, fit_f.predict(sed.f)))\n",
    "logLik_xf = np.sum(stats.poisson.logpmf(sed.y, fit_xf.predict(sed.loc[:,['x', 'f']])))"
   ]
  },
  {
   "cell_type": "code",
   "execution_count": 28,
   "metadata": {
    "collapsed": false
   },
   "outputs": [
    {
     "name": "stdout",
     "output_type": "stream",
     "text": [
      "          k       logL*    deviance    residual        aic\n",
      "null    1.0 -237.643221  475.286443  477.286443  89.506938\n",
      "f       2.0 -237.627257  475.254514  479.254514  89.475009\n",
      "x       2.0 -235.386251  470.772502  474.772502  84.992996\n",
      "x+f     3.0 -235.293719  470.587438  476.587438  84.807933\n",
      "full  100.0 -192.889753  385.779505 -571.559010   0.000000\n"
     ]
    }
   ],
   "source": [
    "k = np.array([1, 2, 2, 3, 100])\n",
    "logLik = np.array([logLik_null, logLik_f, logLik_x, logLik_xf, logLik_full])\n",
    "deviance = -2*logLik\n",
    "residual = deviance - deviance[4]\n",
    "aic = np.array([aic_null, aic_f, aic_x, aic_xf, aic_full])\n",
    "\n",
    "select = np.vstack([k, logLik, deviance, aic, residual]).T\n",
    "select = pd.DataFrame(data = select, columns=['k', \"logL*\", \"deviance\", \"residual\", \"aic\"],\n",
    "                      index=[\"null\", \"f\", \"x\", \"x+f\", \"full\"])\n",
    "print(select)"
   ]
  }
 ],
 "metadata": {
  "anaconda-cloud": {},
  "kernelspec": {
   "display_name": "Python [default]",
   "language": "python",
   "name": "python3"
  },
  "language_info": {
   "codemirror_mode": {
    "name": "ipython",
    "version": 3
   },
   "file_extension": ".py",
   "mimetype": "text/x-python",
   "name": "python",
   "nbconvert_exporter": "python",
   "pygments_lexer": "ipython3",
   "version": "3.5.2"
  }
 },
 "nbformat": 4,
 "nbformat_minor": 1
}
