{
 "cells": [
  {
   "cell_type": "markdown",
   "metadata": {},
   "source": [
    "# GLMの尤度比検定と検定の非対称性\n",
    "- パラメトリック(parametric)なモデル: 比較的に少数のパラメーターを持つモデル\n",
    "- ノンパラメトリック: 多数のパラメーターを使って自由自在な構造を持つ"
   ]
  },
  {
   "cell_type": "markdown",
   "metadata": {
    "collapsed": true
   },
   "source": [
    "## 2種類の過誤\n",
    "- 第1種の過誤：帰無仮説が正しいのに棄却された。\n",
    "- 第2種の過誤：帰無仮説が誤っているのに採択された。"
   ]
  },
  {
   "cell_type": "markdown",
   "metadata": {},
   "source": [
    "## パラメトリックブートストラップ法"
   ]
  },
  {
   "cell_type": "code",
   "execution_count": 1,
   "metadata": {
    "collapsed": false
   },
   "outputs": [],
   "source": [
    "import pandas as pd\n",
    "import numpy as np\n",
    "from patsy import dmatrices\n",
    "import statsmodels.api as sm\n",
    "import statsmodels.formula.api as smf\n",
    "import matplotlib.pyplot as plt"
   ]
  },
  {
   "cell_type": "markdown",
   "metadata": {},
   "source": [
    "- 帰無仮説：一定モデル(パラメーター数$k = 1, \\beta_2 = 0$)が真のモデル\n",
    "- 対立仮説: xモデル($k = 2, \\beta_2\\neq 0$)"
   ]
  },
  {
   "cell_type": "code",
   "execution_count": 2,
   "metadata": {
    "collapsed": false
   },
   "outputs": [
    {
     "name": "stdout",
     "output_type": "stream",
     "text": [
      "                y           x\n",
      "count  100.000000  100.000000\n",
      "mean     7.830000   10.089100\n",
      "std      2.624881    1.008049\n",
      "min      2.000000    7.190000\n",
      "25%      6.000000    9.427500\n",
      "50%      8.000000   10.155000\n",
      "75%     10.000000   10.685000\n",
      "max     15.000000   12.400000\n"
     ]
    }
   ],
   "source": [
    "data = pd.read_csv('data/data3a.csv')[['y', 'x']]\n",
    "print(data.describe())"
   ]
  },
  {
   "cell_type": "code",
   "execution_count": 3,
   "metadata": {
    "collapsed": false
   },
   "outputs": [
    {
     "name": "stdout",
     "output_type": "stream",
     "text": [
      "一定モデルとxモデルの残差逸脱度の差 ΔD = 4.51394107885\n"
     ]
    }
   ],
   "source": [
    "fits = []\n",
    "formulas = ['y ~ 1', 'y ~ x']\n",
    "for i in range(len(formulas)):\n",
    "    fits.append(smf.glm(formula=formulas[i], data = data, family = sm.families.Poisson()).fit())\n",
    "delta_D1x = fits[0].deviance - fits[1].deviance\n",
    "print(\"一定モデルとxモデルの残差逸脱度の差 ΔD = \" + str(delta_D1x))"
   ]
  },
  {
   "cell_type": "code",
   "execution_count": 4,
   "metadata": {
    "collapsed": false
   },
   "outputs": [
    {
     "name": "stdout",
     "output_type": "stream",
     "text": [
      "           y_rnd\n",
      "count  100.00000\n",
      "mean     7.76000\n",
      "std      2.79292\n",
      "min      1.00000\n",
      "25%      5.00000\n",
      "50%      7.50000\n",
      "75%     10.00000\n",
      "max     14.00000\n"
     ]
    }
   ],
   "source": [
    "data['y_rnd'] = np.random.poisson(data.y.mean(), 100)\n",
    "print(data[['y_rnd']].describe())"
   ]
  },
  {
   "cell_type": "code",
   "execution_count": 5,
   "metadata": {
    "collapsed": true
   },
   "outputs": [],
   "source": [
    "def bootstrape(data, n):\n",
    "    def getDD():\n",
    "        data['y_rnd'] = np.random.poisson(data.y.mean(), len(data.y))\n",
    "        fits = []\n",
    "        formulas = ['y_rnd ~ 1', 'y_rnd ~ x']\n",
    "        for i in range(len(formulas)):\n",
    "            fits.append(smf.glm(formula=formulas[i], data = data, family = sm.families.Poisson()).fit())\n",
    "        return fits[0].deviance - fits[1].deviance\n",
    "    return pd.Series(getDD() for i in range(n))"
   ]
  },
  {
   "cell_type": "code",
   "execution_count": 6,
   "metadata": {
    "collapsed": false
   },
   "outputs": [],
   "source": [
    "dd12 = bootstrape(data, 1000)"
   ]
  },
  {
   "cell_type": "code",
   "execution_count": 7,
   "metadata": {
    "collapsed": false
   },
   "outputs": [
    {
     "name": "stdout",
     "output_type": "stream",
     "text": [
      "count    1000.00\n",
      "mean        1.02\n",
      "std         1.40\n",
      "min         0.00\n",
      "25%         0.11\n",
      "50%         0.47\n",
      "75%         1.36\n",
      "max         9.70\n",
      "dtype: float64\n"
     ]
    }
   ],
   "source": [
    "print(dd12.describe().round(2))"
   ]
  },
  {
   "cell_type": "code",
   "execution_count": 8,
   "metadata": {
    "collapsed": false
   },
   "outputs": [
    {
     "data": {
      "image/png": "[encoded data removed]",
      "text/plain": [
       "<matplotlib.figure.Figure at 0x11394eb00>"
      ]
     },
     "metadata": {},
     "output_type": "display_data"
    }
   ],
   "source": [
    "plt.hist(dd12, bins=np.arange(0, 20, 0.2), ec='black', color='white')\n",
    "plt.xlabel(r'$\\Delta D_{1,2}$', fontsize=14)\n",
    "plt.annotate(r\"$\\Delta D_{1,2}$ = 4.5\", xy=(4.5,300), xytext=(7, 300),\n",
    "            arrowprops=dict(facecolor='black', shrink=0.05),\n",
    "            fontsize=14)\n",
    "plt.axvline(x=delta_D1x, linestyle='dashdot', color='black')\n",
    "plt.show()"
   ]
  },
  {
   "cell_type": "code",
   "execution_count": 9,
   "metadata": {
    "collapsed": false
   },
   "outputs": [
    {
     "name": "stdout",
     "output_type": "stream",
     "text": [
      "1000個中4.5より大きい数：32\n",
      "逸脱度のP値が0.032となるため、帰無仮説が棄却された\n",
      "P=0.05となる逸脱度の差：3.95\n"
     ]
    }
   ],
   "source": [
    "print(\"1000個中4.5より大きい数：\" + str((dd12>=4.5).sum()))\n",
    "print(\"逸脱度のP値が\" + str((dd12 >= 4.5).sum()/1000) + \"となるため、帰無仮説が棄却された\")\n",
    "print(\"P=0.05となる逸脱度の差：\" + str(round(dd12.quantile(0.95), 2)))"
   ]
  },
  {
   "cell_type": "markdown",
   "metadata": {},
   "source": [
    "## $\\chi^2$分布を使った近似計算\n",
    "- statsmodels.stats.anova.anova_lm()はGLMに対応していないので、Rで計算した。\n",
    "- $\\chi^2$分布はサンプルサイズが大きい場合に有効な近似計算である。"
   ]
  },
  {
   "cell_type": "code",
   "execution_count": 13,
   "metadata": {
    "collapsed": false
   },
   "outputs": [
    {
     "name": "stdout",
     "output_type": "stream",
     "text": [
      "try({anova(fit1, fit2, test = 'Chisq')})\n",
      "Analysis of Deviance Table\n",
      "\n",
      "Model 1: data$y ~ 1\n",
      "Model 2: data$y ~ data$x\n",
      "  Resid. Df Resid. Dev Df Deviance Pr(>Chi)  \n",
      "1        99     89.507                       \n",
      "2        98     84.993  1   4.5139  0.03362 *\n",
      "---\n",
      "Signif. codes:  0 ‘***’ 0.001 ‘**’ 0.01 ‘*’ 0.05 ‘.’ 0.1 ‘ ’ 1\n",
      "\n",
      "==================================\n",
      "逸脱度の差が4.5になるP値は0.0336となり、帰無仮説は棄却される。\n"
     ]
    }
   ],
   "source": [
    "import pyper\n",
    "r = pyper.R(use_numpy='True', use_pandas='True')\n",
    "r.assign(\"data\", data)\n",
    "r(\"fit1 = glm(data$y ~ 1, family = poisson)\")\n",
    "r(\"fit2 = glm(data$y ~ data$x, family = poisson)\")\n",
    "print(r(\"anova(fit1, fit2, test = 'Chisq')\"))\n",
    "print(\"==================================\")\n",
    "print(\"逸脱度の差が4.5になるP値は0.0336となり、帰無仮説は棄却される。\")"
   ]
  }
 ],
 "metadata": {
  "anaconda-cloud": {},
  "kernelspec": {
   "display_name": "Python [default]",
   "language": "python",
   "name": "python3"
  },
  "language_info": {
   "codemirror_mode": {
    "name": "ipython",
    "version": 3
   },
   "file_extension": ".py",
   "mimetype": "text/x-python",
   "name": "python",
   "nbconvert_exporter": "python",
   "pygments_lexer": "ipython3",
   "version": "3.5.4"
  }
 },
 "nbformat": 4,
 "nbformat_minor": 1
}
